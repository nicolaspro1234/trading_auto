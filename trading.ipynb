{
  "nbformat": 4,
  "nbformat_minor": 0,
  "metadata": {
    "colab": {
      "provenance": [],
      "toc_visible": true,
      "authorship_tag": "ABX9TyOUvoPXh6JmizzHcUIIZqd3",
      "include_colab_link": true
    },
    "kernelspec": {
      "name": "python3",
      "display_name": "Python 3"
    },
    "language_info": {
      "name": "python"
    }
  },
  "cells": [
    {
      "cell_type": "markdown",
      "metadata": {
        "id": "view-in-github",
        "colab_type": "text"
      },
      "source": [
        "<a href=\"https://colab.research.google.com/github/nicolaspro1234/trading_auto/blob/main/trading.ipynb\" target=\"_parent\"><img src=\"https://colab.research.google.com/assets/colab-badge.svg\" alt=\"Open In Colab\"/></a>"
      ]
    },
    {
      "cell_type": "markdown",
      "source": [
        "# Outline\n",
        "\n",
        "This notebook's objective is to design some functions that could be useful for a trading bot.\n",
        "\n",
        "These functions apply to the last point of the input array.\n",
        "\n",
        "Examples:\n",
        "- check if point is a resistance\n",
        "- check if there is a head and shoulders pattern\n",
        "- check if a point is higher than k times its previous average"
      ],
      "metadata": {
        "id": "RSO4iN5KNxms"
      }
    },
    {
      "cell_type": "code",
      "execution_count": 3,
      "metadata": {
        "id": "uJr5m5Y_7L6y"
      },
      "outputs": [],
      "source": [
        "import numpy as np\n",
        "import pandas as pd\n",
        "import random\n",
        "from collections import namedtuple"
      ]
    },
    {
      "cell_type": "code",
      "source": [
        "N = 50\n",
        "offset=3\n",
        "random.seed(0)\n",
        "\n",
        "def get_dummy_values(N, offset):\n",
        "  res = [offset]\n",
        "  value = offset\n",
        "  for i in range(1, N):\n",
        "    new_value = value + (offset/10) * random.random() - (offset/10) * random.random()\n",
        "    res += [new_value]\n",
        "    value = new_value\n",
        "  return res\n",
        "\n",
        "values = get_dummy_values(50, 3)"
      ],
      "metadata": {
        "id": "arybyfIb79-s"
      },
      "execution_count": 4,
      "outputs": []
    },
    {
      "cell_type": "code",
      "source": [
        "pd.DataFrame(data={'close': values})"
      ],
      "metadata": {
        "colab": {
          "base_uri": "https://localhost:8080/",
          "height": 1000
        },
        "id": "gJaYMrS97QYc",
        "outputId": "133f7eec-e53c-45d0-c926-b5d045149354"
      },
      "execution_count": 5,
      "outputs": [
        {
          "output_type": "execute_result",
          "data": {
            "text/plain": [
              "       close\n",
              "0   3.000000\n",
              "1   3.025940\n",
              "2   3.074437\n",
              "3   3.106339\n",
              "4   3.250485\n",
              "5   3.218449\n",
              "6   3.339477\n",
              "7   3.197287\n",
              "8   3.307646\n",
              "9   3.285734\n",
              "10  3.258149\n",
              "11  3.132244\n",
              "12  3.196700\n",
              "13  3.308133\n",
              "14  3.255118\n",
              "15  3.239040\n",
              "16  3.122550\n",
              "17  2.959189\n",
              "18  3.119586\n",
              "19  3.215851\n",
              "20  3.262858\n",
              "21  3.115128\n",
              "22  3.302235\n",
              "23  3.138655\n",
              "24  3.025722\n",
              "25  2.807045\n",
              "26  2.913608\n",
              "27  2.841725\n",
              "28  2.714257\n",
              "29  2.581594\n",
              "30  2.629331\n",
              "31  2.711586\n",
              "32  2.819781\n",
              "33  2.862570\n",
              "34  2.925986\n",
              "35  3.011582\n",
              "36  3.012381\n",
              "37  2.999215\n",
              "38  3.115227\n",
              "39  3.079477\n",
              "40  3.103753\n",
              "41  3.096280\n",
              "42  3.141071\n",
              "43  3.269966\n",
              "44  3.258609\n",
              "45  3.350180\n",
              "46  3.461201\n",
              "47  3.398297\n",
              "48  3.422092\n",
              "49  3.635377"
            ],
            "text/html": [
              "\n",
              "  <div id=\"df-7d13a133-1e82-43c1-a2ab-0ffd234d76b9\" class=\"colab-df-container\">\n",
              "    <div>\n",
              "<style scoped>\n",
              "    .dataframe tbody tr th:only-of-type {\n",
              "        vertical-align: middle;\n",
              "    }\n",
              "\n",
              "    .dataframe tbody tr th {\n",
              "        vertical-align: top;\n",
              "    }\n",
              "\n",
              "    .dataframe thead th {\n",
              "        text-align: right;\n",
              "    }\n",
              "</style>\n",
              "<table border=\"1\" class=\"dataframe\">\n",
              "  <thead>\n",
              "    <tr style=\"text-align: right;\">\n",
              "      <th></th>\n",
              "      <th>close</th>\n",
              "    </tr>\n",
              "  </thead>\n",
              "  <tbody>\n",
              "    <tr>\n",
              "      <th>0</th>\n",
              "      <td>3.000000</td>\n",
              "    </tr>\n",
              "    <tr>\n",
              "      <th>1</th>\n",
              "      <td>3.025940</td>\n",
              "    </tr>\n",
              "    <tr>\n",
              "      <th>2</th>\n",
              "      <td>3.074437</td>\n",
              "    </tr>\n",
              "    <tr>\n",
              "      <th>3</th>\n",
              "      <td>3.106339</td>\n",
              "    </tr>\n",
              "    <tr>\n",
              "      <th>4</th>\n",
              "      <td>3.250485</td>\n",
              "    </tr>\n",
              "    <tr>\n",
              "      <th>5</th>\n",
              "      <td>3.218449</td>\n",
              "    </tr>\n",
              "    <tr>\n",
              "      <th>6</th>\n",
              "      <td>3.339477</td>\n",
              "    </tr>\n",
              "    <tr>\n",
              "      <th>7</th>\n",
              "      <td>3.197287</td>\n",
              "    </tr>\n",
              "    <tr>\n",
              "      <th>8</th>\n",
              "      <td>3.307646</td>\n",
              "    </tr>\n",
              "    <tr>\n",
              "      <th>9</th>\n",
              "      <td>3.285734</td>\n",
              "    </tr>\n",
              "    <tr>\n",
              "      <th>10</th>\n",
              "      <td>3.258149</td>\n",
              "    </tr>\n",
              "    <tr>\n",
              "      <th>11</th>\n",
              "      <td>3.132244</td>\n",
              "    </tr>\n",
              "    <tr>\n",
              "      <th>12</th>\n",
              "      <td>3.196700</td>\n",
              "    </tr>\n",
              "    <tr>\n",
              "      <th>13</th>\n",
              "      <td>3.308133</td>\n",
              "    </tr>\n",
              "    <tr>\n",
              "      <th>14</th>\n",
              "      <td>3.255118</td>\n",
              "    </tr>\n",
              "    <tr>\n",
              "      <th>15</th>\n",
              "      <td>3.239040</td>\n",
              "    </tr>\n",
              "    <tr>\n",
              "      <th>16</th>\n",
              "      <td>3.122550</td>\n",
              "    </tr>\n",
              "    <tr>\n",
              "      <th>17</th>\n",
              "      <td>2.959189</td>\n",
              "    </tr>\n",
              "    <tr>\n",
              "      <th>18</th>\n",
              "      <td>3.119586</td>\n",
              "    </tr>\n",
              "    <tr>\n",
              "      <th>19</th>\n",
              "      <td>3.215851</td>\n",
              "    </tr>\n",
              "    <tr>\n",
              "      <th>20</th>\n",
              "      <td>3.262858</td>\n",
              "    </tr>\n",
              "    <tr>\n",
              "      <th>21</th>\n",
              "      <td>3.115128</td>\n",
              "    </tr>\n",
              "    <tr>\n",
              "      <th>22</th>\n",
              "      <td>3.302235</td>\n",
              "    </tr>\n",
              "    <tr>\n",
              "      <th>23</th>\n",
              "      <td>3.138655</td>\n",
              "    </tr>\n",
              "    <tr>\n",
              "      <th>24</th>\n",
              "      <td>3.025722</td>\n",
              "    </tr>\n",
              "    <tr>\n",
              "      <th>25</th>\n",
              "      <td>2.807045</td>\n",
              "    </tr>\n",
              "    <tr>\n",
              "      <th>26</th>\n",
              "      <td>2.913608</td>\n",
              "    </tr>\n",
              "    <tr>\n",
              "      <th>27</th>\n",
              "      <td>2.841725</td>\n",
              "    </tr>\n",
              "    <tr>\n",
              "      <th>28</th>\n",
              "      <td>2.714257</td>\n",
              "    </tr>\n",
              "    <tr>\n",
              "      <th>29</th>\n",
              "      <td>2.581594</td>\n",
              "    </tr>\n",
              "    <tr>\n",
              "      <th>30</th>\n",
              "      <td>2.629331</td>\n",
              "    </tr>\n",
              "    <tr>\n",
              "      <th>31</th>\n",
              "      <td>2.711586</td>\n",
              "    </tr>\n",
              "    <tr>\n",
              "      <th>32</th>\n",
              "      <td>2.819781</td>\n",
              "    </tr>\n",
              "    <tr>\n",
              "      <th>33</th>\n",
              "      <td>2.862570</td>\n",
              "    </tr>\n",
              "    <tr>\n",
              "      <th>34</th>\n",
              "      <td>2.925986</td>\n",
              "    </tr>\n",
              "    <tr>\n",
              "      <th>35</th>\n",
              "      <td>3.011582</td>\n",
              "    </tr>\n",
              "    <tr>\n",
              "      <th>36</th>\n",
              "      <td>3.012381</td>\n",
              "    </tr>\n",
              "    <tr>\n",
              "      <th>37</th>\n",
              "      <td>2.999215</td>\n",
              "    </tr>\n",
              "    <tr>\n",
              "      <th>38</th>\n",
              "      <td>3.115227</td>\n",
              "    </tr>\n",
              "    <tr>\n",
              "      <th>39</th>\n",
              "      <td>3.079477</td>\n",
              "    </tr>\n",
              "    <tr>\n",
              "      <th>40</th>\n",
              "      <td>3.103753</td>\n",
              "    </tr>\n",
              "    <tr>\n",
              "      <th>41</th>\n",
              "      <td>3.096280</td>\n",
              "    </tr>\n",
              "    <tr>\n",
              "      <th>42</th>\n",
              "      <td>3.141071</td>\n",
              "    </tr>\n",
              "    <tr>\n",
              "      <th>43</th>\n",
              "      <td>3.269966</td>\n",
              "    </tr>\n",
              "    <tr>\n",
              "      <th>44</th>\n",
              "      <td>3.258609</td>\n",
              "    </tr>\n",
              "    <tr>\n",
              "      <th>45</th>\n",
              "      <td>3.350180</td>\n",
              "    </tr>\n",
              "    <tr>\n",
              "      <th>46</th>\n",
              "      <td>3.461201</td>\n",
              "    </tr>\n",
              "    <tr>\n",
              "      <th>47</th>\n",
              "      <td>3.398297</td>\n",
              "    </tr>\n",
              "    <tr>\n",
              "      <th>48</th>\n",
              "      <td>3.422092</td>\n",
              "    </tr>\n",
              "    <tr>\n",
              "      <th>49</th>\n",
              "      <td>3.635377</td>\n",
              "    </tr>\n",
              "  </tbody>\n",
              "</table>\n",
              "</div>\n",
              "    <div class=\"colab-df-buttons\">\n",
              "\n",
              "  <div class=\"colab-df-container\">\n",
              "    <button class=\"colab-df-convert\" onclick=\"convertToInteractive('df-7d13a133-1e82-43c1-a2ab-0ffd234d76b9')\"\n",
              "            title=\"Convert this dataframe to an interactive table.\"\n",
              "            style=\"display:none;\">\n",
              "\n",
              "  <svg xmlns=\"http://www.w3.org/2000/svg\" height=\"24px\" viewBox=\"0 -960 960 960\">\n",
              "    <path d=\"M120-120v-720h720v720H120Zm60-500h600v-160H180v160Zm220 220h160v-160H400v160Zm0 220h160v-160H400v160ZM180-400h160v-160H180v160Zm440 0h160v-160H620v160ZM180-180h160v-160H180v160Zm440 0h160v-160H620v160Z\"/>\n",
              "  </svg>\n",
              "    </button>\n",
              "\n",
              "  <style>\n",
              "    .colab-df-container {\n",
              "      display:flex;\n",
              "      gap: 12px;\n",
              "    }\n",
              "\n",
              "    .colab-df-convert {\n",
              "      background-color: #E8F0FE;\n",
              "      border: none;\n",
              "      border-radius: 50%;\n",
              "      cursor: pointer;\n",
              "      display: none;\n",
              "      fill: #1967D2;\n",
              "      height: 32px;\n",
              "      padding: 0 0 0 0;\n",
              "      width: 32px;\n",
              "    }\n",
              "\n",
              "    .colab-df-convert:hover {\n",
              "      background-color: #E2EBFA;\n",
              "      box-shadow: 0px 1px 2px rgba(60, 64, 67, 0.3), 0px 1px 3px 1px rgba(60, 64, 67, 0.15);\n",
              "      fill: #174EA6;\n",
              "    }\n",
              "\n",
              "    .colab-df-buttons div {\n",
              "      margin-bottom: 4px;\n",
              "    }\n",
              "\n",
              "    [theme=dark] .colab-df-convert {\n",
              "      background-color: #3B4455;\n",
              "      fill: #D2E3FC;\n",
              "    }\n",
              "\n",
              "    [theme=dark] .colab-df-convert:hover {\n",
              "      background-color: #434B5C;\n",
              "      box-shadow: 0px 1px 3px 1px rgba(0, 0, 0, 0.15);\n",
              "      filter: drop-shadow(0px 1px 2px rgba(0, 0, 0, 0.3));\n",
              "      fill: #FFFFFF;\n",
              "    }\n",
              "  </style>\n",
              "\n",
              "    <script>\n",
              "      const buttonEl =\n",
              "        document.querySelector('#df-7d13a133-1e82-43c1-a2ab-0ffd234d76b9 button.colab-df-convert');\n",
              "      buttonEl.style.display =\n",
              "        google.colab.kernel.accessAllowed ? 'block' : 'none';\n",
              "\n",
              "      async function convertToInteractive(key) {\n",
              "        const element = document.querySelector('#df-7d13a133-1e82-43c1-a2ab-0ffd234d76b9');\n",
              "        const dataTable =\n",
              "          await google.colab.kernel.invokeFunction('convertToInteractive',\n",
              "                                                    [key], {});\n",
              "        if (!dataTable) return;\n",
              "\n",
              "        const docLinkHtml = 'Like what you see? Visit the ' +\n",
              "          '<a target=\"_blank\" href=https://colab.research.google.com/notebooks/data_table.ipynb>data table notebook</a>'\n",
              "          + ' to learn more about interactive tables.';\n",
              "        element.innerHTML = '';\n",
              "        dataTable['output_type'] = 'display_data';\n",
              "        await google.colab.output.renderOutput(dataTable, element);\n",
              "        const docLink = document.createElement('div');\n",
              "        docLink.innerHTML = docLinkHtml;\n",
              "        element.appendChild(docLink);\n",
              "      }\n",
              "    </script>\n",
              "  </div>\n",
              "\n",
              "\n",
              "<div id=\"df-457955a0-0d50-48f5-83eb-23c64621e682\">\n",
              "  <button class=\"colab-df-quickchart\" onclick=\"quickchart('df-457955a0-0d50-48f5-83eb-23c64621e682')\"\n",
              "            title=\"Suggest charts\"\n",
              "            style=\"display:none;\">\n",
              "\n",
              "<svg xmlns=\"http://www.w3.org/2000/svg\" height=\"24px\"viewBox=\"0 0 24 24\"\n",
              "     width=\"24px\">\n",
              "    <g>\n",
              "        <path d=\"M19 3H5c-1.1 0-2 .9-2 2v14c0 1.1.9 2 2 2h14c1.1 0 2-.9 2-2V5c0-1.1-.9-2-2-2zM9 17H7v-7h2v7zm4 0h-2V7h2v10zm4 0h-2v-4h2v4z\"/>\n",
              "    </g>\n",
              "</svg>\n",
              "  </button>\n",
              "\n",
              "<style>\n",
              "  .colab-df-quickchart {\n",
              "      --bg-color: #E8F0FE;\n",
              "      --fill-color: #1967D2;\n",
              "      --hover-bg-color: #E2EBFA;\n",
              "      --hover-fill-color: #174EA6;\n",
              "      --disabled-fill-color: #AAA;\n",
              "      --disabled-bg-color: #DDD;\n",
              "  }\n",
              "\n",
              "  [theme=dark] .colab-df-quickchart {\n",
              "      --bg-color: #3B4455;\n",
              "      --fill-color: #D2E3FC;\n",
              "      --hover-bg-color: #434B5C;\n",
              "      --hover-fill-color: #FFFFFF;\n",
              "      --disabled-bg-color: #3B4455;\n",
              "      --disabled-fill-color: #666;\n",
              "  }\n",
              "\n",
              "  .colab-df-quickchart {\n",
              "    background-color: var(--bg-color);\n",
              "    border: none;\n",
              "    border-radius: 50%;\n",
              "    cursor: pointer;\n",
              "    display: none;\n",
              "    fill: var(--fill-color);\n",
              "    height: 32px;\n",
              "    padding: 0;\n",
              "    width: 32px;\n",
              "  }\n",
              "\n",
              "  .colab-df-quickchart:hover {\n",
              "    background-color: var(--hover-bg-color);\n",
              "    box-shadow: 0 1px 2px rgba(60, 64, 67, 0.3), 0 1px 3px 1px rgba(60, 64, 67, 0.15);\n",
              "    fill: var(--button-hover-fill-color);\n",
              "  }\n",
              "\n",
              "  .colab-df-quickchart-complete:disabled,\n",
              "  .colab-df-quickchart-complete:disabled:hover {\n",
              "    background-color: var(--disabled-bg-color);\n",
              "    fill: var(--disabled-fill-color);\n",
              "    box-shadow: none;\n",
              "  }\n",
              "\n",
              "  .colab-df-spinner {\n",
              "    border: 2px solid var(--fill-color);\n",
              "    border-color: transparent;\n",
              "    border-bottom-color: var(--fill-color);\n",
              "    animation:\n",
              "      spin 1s steps(1) infinite;\n",
              "  }\n",
              "\n",
              "  @keyframes spin {\n",
              "    0% {\n",
              "      border-color: transparent;\n",
              "      border-bottom-color: var(--fill-color);\n",
              "      border-left-color: var(--fill-color);\n",
              "    }\n",
              "    20% {\n",
              "      border-color: transparent;\n",
              "      border-left-color: var(--fill-color);\n",
              "      border-top-color: var(--fill-color);\n",
              "    }\n",
              "    30% {\n",
              "      border-color: transparent;\n",
              "      border-left-color: var(--fill-color);\n",
              "      border-top-color: var(--fill-color);\n",
              "      border-right-color: var(--fill-color);\n",
              "    }\n",
              "    40% {\n",
              "      border-color: transparent;\n",
              "      border-right-color: var(--fill-color);\n",
              "      border-top-color: var(--fill-color);\n",
              "    }\n",
              "    60% {\n",
              "      border-color: transparent;\n",
              "      border-right-color: var(--fill-color);\n",
              "    }\n",
              "    80% {\n",
              "      border-color: transparent;\n",
              "      border-right-color: var(--fill-color);\n",
              "      border-bottom-color: var(--fill-color);\n",
              "    }\n",
              "    90% {\n",
              "      border-color: transparent;\n",
              "      border-bottom-color: var(--fill-color);\n",
              "    }\n",
              "  }\n",
              "</style>\n",
              "\n",
              "  <script>\n",
              "    async function quickchart(key) {\n",
              "      const quickchartButtonEl =\n",
              "        document.querySelector('#' + key + ' button');\n",
              "      quickchartButtonEl.disabled = true;  // To prevent multiple clicks.\n",
              "      quickchartButtonEl.classList.add('colab-df-spinner');\n",
              "      try {\n",
              "        const charts = await google.colab.kernel.invokeFunction(\n",
              "            'suggestCharts', [key], {});\n",
              "      } catch (error) {\n",
              "        console.error('Error during call to suggestCharts:', error);\n",
              "      }\n",
              "      quickchartButtonEl.classList.remove('colab-df-spinner');\n",
              "      quickchartButtonEl.classList.add('colab-df-quickchart-complete');\n",
              "    }\n",
              "    (() => {\n",
              "      let quickchartButtonEl =\n",
              "        document.querySelector('#df-457955a0-0d50-48f5-83eb-23c64621e682 button');\n",
              "      quickchartButtonEl.style.display =\n",
              "        google.colab.kernel.accessAllowed ? 'block' : 'none';\n",
              "    })();\n",
              "  </script>\n",
              "</div>\n",
              "\n",
              "    </div>\n",
              "  </div>\n"
            ],
            "application/vnd.google.colaboratory.intrinsic+json": {
              "type": "dataframe",
              "summary": "{\n  \"name\": \"pd\",\n  \"rows\": 50,\n  \"fields\": [\n    {\n      \"column\": \"close\",\n      \"properties\": {\n        \"dtype\": \"number\",\n        \"std\": 0.2174712335813117,\n        \"min\": 2.581594398052371,\n        \"max\": 3.635377150231712,\n        \"num_unique_values\": 50,\n        \"samples\": [\n          3.308132914683301,\n          3.0794767114362576,\n          2.6293305476139106\n        ],\n        \"semantic_type\": \"\",\n        \"description\": \"\"\n      }\n    }\n  ]\n}"
            }
          },
          "metadata": {},
          "execution_count": 5
        }
      ]
    },
    {
      "cell_type": "code",
      "source": [
        "import matplotlib.pyplot as plt\n",
        "\n",
        "def plot_values(values):\n",
        "  # Generate indices for the x-axis\n",
        "  x = np.arange(len(values))\n",
        "\n",
        "  # Create a scatter plot\n",
        "  plt.scatter(x, values, color='red', marker='o', label='Array Values')\n",
        "  plt.plot(x, values, color='red', linestyle='-', label='Connecting Lines')\n",
        "\n",
        "  # Add labels and title\n",
        "  plt.xlabel('Index')\n",
        "  plt.ylabel('Value')\n",
        "  plt.title('Scatter Plot of One-Dimensional Array')\n",
        "  plt.legend()\n",
        "\n",
        "  # Display the plot\n",
        "  plt.grid(True)\n",
        "  plt.show()\n",
        "\n",
        "plot_values(values)\n"
      ],
      "metadata": {
        "colab": {
          "base_uri": "https://localhost:8080/",
          "height": 472
        },
        "id": "3pxXqy27In1F",
        "outputId": "50ea392e-f953-4b3d-8e52-61beb97d95ad"
      },
      "execution_count": 8,
      "outputs": [
        {
          "output_type": "display_data",
          "data": {
            "text/plain": [
              "<Figure size 640x480 with 1 Axes>"
            ],
            "image/png": "[encoded data removed]"
          },
          "metadata": {}
        }
      ]
    },
    {
      "cell_type": "markdown",
      "source": [
        "I want to build a pipeline that checks for me that the data follows some patter.\n",
        "For example:\n",
        "  - the last data point is a resistance breaker or not.\n",
        "  - the last data point is the end of a head and shoulders pattern.\n",
        "\n",
        "So I must have a pipeline object, and within it, steps that return a boolean."
      ],
      "metadata": {
        "id": "7A1Ewfi998lC"
      }
    },
    {
      "cell_type": "markdown",
      "source": [
        "# Pipeline"
      ],
      "metadata": {
        "id": "zJMtGOCLDHTt"
      }
    },
    {
      "cell_type": "code",
      "source": [
        "class Pipeline():\n",
        "  def __init__(self, pipeline=[]):\n",
        "    self.pipeline = pipeline\n",
        "\n",
        "  def add(self, stage):\n",
        "    if stage.id in self.pipeline:\n",
        "      raise ValueError(\"A stage in pipeline already contains this stage's id\")\n",
        "    self.pipeline += [stage]\n",
        "\n",
        "  def remove(self, stage_id):\n",
        "    self.pipeline = [s for s in self.pipeline if s.id != stage_id]\n",
        "\n",
        "  def run(self, data, print_metadata=False):\n",
        "    for s in self.pipeline:\n",
        "      b, metadata = s.function(data)\n",
        "      if print_metadata:\n",
        "        print(f'{s.id}: {metadata}')\n",
        "\n",
        "      if not b:\n",
        "        return False\n",
        "    return True\n",
        "\n",
        "\n",
        "# function returns a tuple (bool, Dict). The second element is metadata about the result.\n",
        "Stage = namedtuple('Stage', ['id', 'function'])"
      ],
      "metadata": {
        "id": "oR5CiSe78AYA"
      },
      "execution_count": 60,
      "outputs": []
    },
    {
      "cell_type": "code",
      "source": [
        "s_test = Stage(id='test', function=lambda s: ( (s > 3.1).all(), {'nb points above threshold:': (s > 3.1).sum()}))"
      ],
      "metadata": {
        "id": "eJ_L4F-N97Ow"
      },
      "execution_count": 65,
      "outputs": []
    },
    {
      "cell_type": "code",
      "source": [
        "p = Pipeline(pipeline=[])\n",
        "p.add(s_test)\n",
        "p.pipeline"
      ],
      "metadata": {
        "colab": {
          "base_uri": "https://localhost:8080/"
        },
        "id": "ZbS3dBSrA_xU",
        "outputId": "5e794817-7632-449f-f3e9-4317437e3dde"
      },
      "execution_count": 66,
      "outputs": [
        {
          "output_type": "execute_result",
          "data": {
            "text/plain": [
              "[Stage(id='test', function=<function <lambda> at 0x7aa03bf11240>)]"
            ]
          },
          "metadata": {},
          "execution_count": 66
        }
      ]
    },
    {
      "cell_type": "code",
      "source": [
        "p.run(np.array(values), print_metadata=True)"
      ],
      "metadata": {
        "colab": {
          "base_uri": "https://localhost:8080/"
        },
        "id": "bf5-Csg5BH-M",
        "outputId": "22e7d182-6efa-47bb-f06e-f3b58739c7a2"
      },
      "execution_count": 67,
      "outputs": [
        {
          "output_type": "stream",
          "name": "stdout",
          "text": [
            "test: {'nb points above threshold:': 7}\n"
          ]
        },
        {
          "output_type": "execute_result",
          "data": {
            "text/plain": [
              "False"
            ]
          },
          "metadata": {},
          "execution_count": 67
        }
      ]
    },
    {
      "cell_type": "code",
      "source": [
        "p.pipeline"
      ],
      "metadata": {
        "colab": {
          "base_uri": "https://localhost:8080/"
        },
        "id": "NvRZK3A9C3-t",
        "outputId": "a28e5e6a-f143-4563-8475-4bec855968fd"
      },
      "execution_count": 64,
      "outputs": [
        {
          "output_type": "execute_result",
          "data": {
            "text/plain": [
              "[Stage(id='test', function=<function <lambda> at 0x7aa03c0293f0>)]"
            ]
          },
          "metadata": {},
          "execution_count": 64
        }
      ]
    },
    {
      "cell_type": "code",
      "source": [
        "p.remove('test')\n",
        "p.pipeline"
      ],
      "metadata": {
        "colab": {
          "base_uri": "https://localhost:8080/"
        },
        "id": "3CPkTzK_Dyih",
        "outputId": "07f576fd-5899-4e5d-beba-6500085ae838"
      },
      "execution_count": null,
      "outputs": [
        {
          "output_type": "execute_result",
          "data": {
            "text/plain": [
              "[]"
            ]
          },
          "metadata": {},
          "execution_count": 122
        }
      ]
    },
    {
      "cell_type": "markdown",
      "source": [
        "# Checker fucntions"
      ],
      "metadata": {
        "id": "LnO94goAD62u"
      }
    },
    {
      "cell_type": "markdown",
      "source": [
        "## Resistance"
      ],
      "metadata": {
        "id": "mu9kH93yEEFA"
      }
    },
    {
      "cell_type": "code",
      "source": [
        "values"
      ],
      "metadata": {
        "colab": {
          "base_uri": "https://localhost:8080/"
        },
        "id": "uMrGpnOeD9bB",
        "outputId": "94fbbd87-ffa4-420b-af6e-e66e2b725e89"
      },
      "execution_count": null,
      "outputs": [
        {
          "output_type": "execute_result",
          "data": {
            "text/plain": [
              "[3,\n",
              " 3.025940234575424,\n",
              " 3.0744366837367885,\n",
              " 3.1063388589122467,\n",
              " 3.250484617799,\n",
              " 3.218449092208197,\n",
              " 3.339476901021581,\n",
              " 3.1972869930943246,\n",
              " 3.307645789688192,\n",
              " 3.285734023667368]"
            ]
          },
          "metadata": {},
          "execution_count": 124
        }
      ]
    },
    {
      "cell_type": "code",
      "source": [
        "import numpy as np\n",
        "\n",
        "def is_resistance(\n",
        "    data,\n",
        "    max_nb_historical_points,\n",
        "    min_nb_historical_points,\n",
        "    ratio_around_resistance,\n",
        "    min_touch_occurences,\n",
        "    min_points_between_touches,\n",
        "    ratio_of_decrease=0.2):\n",
        "    \"\"\"\n",
        "    Returns True if the last point is part of a resistance, else False.\n",
        "\n",
        "    Filters the history by removing points before the latest point that exceeds\n",
        "    last_point * (1 + ratio_around_resistance). Then checks for resistance with\n",
        "    additional constraints on the minimum distance between touches and low-level condition.\n",
        "\n",
        "    Arguments:\n",
        "        - data:                     numpy array of points\n",
        "        - max_nb_historical_points: maximum history size as number of points\n",
        "        - min_nb_historical_points: minimum number of historical points in the filtered history\n",
        "        - ratio_around_resistance:  ratio of tolerance around resistance level\n",
        "        - min_touch_occurences:     number of times the resistance line is touched\n",
        "        - min_points_between_touches: minimum points required between touches\n",
        "        - ratio_of_decrease:        minimum ratio decrease from the resistance level required in history\n",
        "\n",
        "    Returns:\n",
        "        bool: True if the last point is part of a resistance, False otherwise.\n",
        "    \"\"\"\n",
        "    metadata = {}\n",
        "    # Ensure data length is sufficient\n",
        "    if len(data) < max_nb_historical_points:\n",
        "        raise ValueError(\"Insufficient data points for the specified history size.\")\n",
        "\n",
        "    # Get the last point and its tolerance threshold\n",
        "    last_point = data[-1]\n",
        "    tolerance_threshold = last_point * (1 + ratio_around_resistance)\n",
        "\n",
        "    # Filter the history\n",
        "    historical_data = data[-max_nb_historical_points:-1]  # Exclude the last point for resistance calculation\n",
        "    crossing_indices = [i for i, point in enumerate(historical_data) if point > tolerance_threshold]\n",
        "\n",
        "    if crossing_indices:\n",
        "        # Cut history after the most recent crossing point\n",
        "        historical_data = historical_data[crossing_indices[-1] + 1:]\n",
        "    metadata.update({'len historical data': len(historical_data)})\n",
        "\n",
        "    # Check if the filtered history meets minimum length requirement\n",
        "    if len(historical_data) < min_nb_historical_points:\n",
        "        return False, metadata\n",
        "\n",
        "    # Determine the potential resistance level as the level of last point\n",
        "    resistance_level = last_point\n",
        "\n",
        "    # Define the tolerance range around the resistance level\n",
        "    lower_bound = resistance_level * (1 - ratio_around_resistance)\n",
        "    upper_bound = resistance_level * (1 + ratio_around_resistance)\n",
        "\n",
        "    # Ensure the cut history has reached a low enough level\n",
        "    required_low_level = resistance_level - resistance_level * ratio_of_decrease\n",
        "    if np.min(historical_data) > required_low_level:\n",
        "        return False, metadata\n",
        "\n",
        "    # Count valid touches with min_points_between_touches enforcement\n",
        "    touch_count = 0\n",
        "    last_touch_index = -min_points_between_touches - 1  # Initialize as far enough back\n",
        "    for i, point in enumerate(historical_data):\n",
        "        if lower_bound <= point <= upper_bound:\n",
        "            # Check if enough points have passed since the last touch\n",
        "            if i - last_touch_index > min_points_between_touches:\n",
        "                touch_count += 1\n",
        "                last_touch_index = i\n",
        "        elif point > upper_bound:  # Resistance is crossed\n",
        "            return False, metadata\n",
        "\n",
        "    # Return True if last point is near resistance and touch count condition is met\n",
        "    b = touch_count >= min_touch_occurences\n",
        "    metadata.update({'touch_count': touch_count})\n",
        "    return b, metadata\n"
      ],
      "metadata": {
        "id": "YannOgwk8xQM"
      },
      "execution_count": 69,
      "outputs": []
    },
    {
      "cell_type": "markdown",
      "source": [
        "\n",
        "\n",
        "## Epaule tête épaule inversée"
      ],
      "metadata": {
        "id": "tykjM9_COow3"
      }
    },
    {
      "cell_type": "code",
      "source": [
        "def is_inverse_head_and_shoulders(\n",
        "    data: np.array,\n",
        "    max_nb_historical_points: int,\n",
        "    min_length_head: int,\n",
        "    min_length_shoulders: int,\n",
        "    min_ratio_decrease_shoulder: float=None,\n",
        "    min_ratio_decrease_head: float=None,\n",
        "    tolerance_around_neckline: float=0.01,\n",
        "):\n",
        "  '''\n",
        "  1. Local Minima Identification: The function identifies all local minima in the data.\n",
        "  2. Triple Nested Loop: It uses a triple nested loop to generate all possible combinations of three local minima that respect the chronological order (left shoulder, head, right shoulder).\n",
        "  3. Criteria Validation: For each valid combination, the function checks:\n",
        "    - If the head is lower than both shoulders.\n",
        "    - If the lengths of the head and shoulders meet the minimum requirements.\n",
        "    - If the ratio decreases of the shoulders and head meet the specified criteria.\n",
        "  4. Neckline Calculation: The function finds the maximum values between the left shoulder and the head, and between the head and the right shoulder. The neckline is formed by these maximum values.\n",
        "  5. Tolerance Check: The function calculates the mean of max_left_shoulder_head and max_head_right_shoulder and defines the lower and upper bounds based on the tolerance. It then checks if max_left_shoulder_head, max_head_right_shoulder, and the last point fall within these bounds.\n",
        "  6. Return Result: The function returns True if any combination meets all criteria, otherwise False.\n",
        "  '''\n",
        "  metadata = {}\n",
        "  # Ensure the data is a numpy array\n",
        "  data = np.array(data)\n",
        "\n",
        "  if max_nb_historical_points <  min_length_head + 2 * min_length_shoulders:\n",
        "    raise ValueError(\"The data array must contain at least min_length_head + 2 * min_length_shoulders elements.\")\n",
        "\n",
        "  # Truncate the data to the maximum number of historical points\n",
        "  if len(data) > max_nb_historical_points:\n",
        "      data = data[-max_nb_historical_points:]\n",
        "\n",
        "  if len(data) < min_length_head + 2 * min_length_shoulders:\n",
        "      return False, metadata\n",
        "\n",
        "  # Find local minima\n",
        "  local_minima = []\n",
        "  for i in range(1, len(data) - 1):\n",
        "      if data[i] < data[i-1] and data[i] < data[i+1]:\n",
        "          local_minima.append((i, data[i]))\n",
        "\n",
        "  # Ensure there are at least three local minima\n",
        "  if len(local_minima) < 3:\n",
        "      return False, metadata\n",
        "\n",
        "  # Iterate through all combinations of three local minima\n",
        "  for i in range(len(local_minima) - 2):\n",
        "      for j in range(i + 1, len(local_minima) - 1):\n",
        "          for k in range(j + 1, len(local_minima)):\n",
        "              left_shoulder_idx, left_shoulder_val = local_minima[i]\n",
        "              head_idx, head_val = local_minima[j]\n",
        "              right_shoulder_idx, right_shoulder_val = local_minima[k]\n",
        "\n",
        "              # Check if the head is lower than both shoulders\n",
        "              if not (head_val < left_shoulder_val and head_val < right_shoulder_val):\n",
        "                  continue\n",
        "\n",
        "              # Find the maximum values between the shoulders and the head\n",
        "              max_left_shoulder_head_idx = left_shoulder_idx + np.argmax(data[left_shoulder_idx:head_idx+1])\n",
        "              max_left_shoulder_head = data[max_left_shoulder_head_idx]\n",
        "\n",
        "              max_head_right_shoulder_idx = head_idx + np.argmax(data[head_idx:right_shoulder_idx+1])\n",
        "              max_head_right_shoulder = data[max_head_right_shoulder_idx]\n",
        "\n",
        "              # Check the lengths of the head and shoulders\n",
        "              if (max_head_right_shoulder_idx - max_left_shoulder_head_idx) < min_length_head:\n",
        "                  continue\n",
        "              if (len(data) - 1 - max_head_right_shoulder_idx) < min_length_shoulders:\n",
        "                  continue\n",
        "\n",
        "              # Find the index of the last point before the left shoulder that crosses the neckline\n",
        "              neckline_mean = (max_left_shoulder_head + max_head_right_shoulder) / 2\n",
        "              neckline_lower_bound = (1 - tolerance_around_neckline) * neckline_mean\n",
        "              neckline_upper_bound = (1 + tolerance_around_neckline) * neckline_mean\n",
        "\n",
        "              left_shoulder_start_idx = next((idx for idx in range(left_shoulder_idx - 1, -1, -1) if data[idx] >= neckline_lower_bound), None)\n",
        "              if left_shoulder_start_idx is None:\n",
        "                  continue\n",
        "\n",
        "              if (max_left_shoulder_head_idx - left_shoulder_start_idx) < min_length_shoulders:\n",
        "                  continue\n",
        "\n",
        "              # Check the ratio decrease of the shoulders and head\n",
        "              if min_ratio_decrease_shoulder is not None:\n",
        "                  if (left_shoulder_val / data[-1]) > (1 - min_ratio_decrease_shoulder) or (right_shoulder_val / data[-1]) > (1 - min_ratio_decrease_shoulder):\n",
        "                      continue\n",
        "              if min_ratio_decrease_head is not None:\n",
        "                  if (head_val / data[-1]) > (1 - min_ratio_decrease_head):\n",
        "                      continue\n",
        "\n",
        "              # Check the tolerance around the neckline\n",
        "              if not (neckline_lower_bound <= max_left_shoulder_head <= neckline_upper_bound):\n",
        "                  continue\n",
        "              if not (neckline_lower_bound <= max_head_right_shoulder <= neckline_upper_bound):\n",
        "                  continue\n",
        "              if not (neckline_lower_bound <= data[-1] <= neckline_upper_bound):\n",
        "                  continue\n",
        "\n",
        "              metadata.update({\n",
        "                  'neckline_mean': neckline_mean,\n",
        "                  'left_shoulder_start_idx': left_shoulder_start_idx\n",
        "              })\n",
        "              return True, metadata\n",
        "\n",
        "  return False, metadata\n",
        "\n",
        "\n",
        "\n"
      ],
      "metadata": {
        "id": "lIUodsngKYTb"
      },
      "execution_count": 9,
      "outputs": []
    },
    {
      "cell_type": "code",
      "source": [
        "# Example usage\n",
        "data = np.array([13, 12, 10, 9, 8, 7, 6, 5, 6, 7, 8, 9, 10.2,\n",
        "                 9, 8, 7, 6, 5, 4, 3, 4, 5, 6, 7, 8, 9, 10,\n",
        "                 10, 8, 7, 6, 5, 6, 7, 8, 9, 12])\n",
        "\n",
        "plot_values(data)\n",
        "\n",
        "print(is_inverse_head_and_shoulders(\n",
        "    data,\n",
        "    max_nb_historical_points=50,\n",
        "    min_length_head=6,\n",
        "    min_length_shoulders=3,\n",
        "    tolerance_around_neckline=0.05))"
      ],
      "metadata": {
        "colab": {
          "base_uri": "https://localhost:8080/",
          "height": 490
        },
        "id": "oZo86H1_iaHi",
        "outputId": "7cf363ca-7e6e-47ff-c3a0-4a0d8d9139f7"
      },
      "execution_count": 22,
      "outputs": [
        {
          "output_type": "display_data",
          "data": {
            "text/plain": [
              "<Figure size 640x480 with 1 Axes>"
            ],
            "image/png": "[encoded data removed]"
          },
          "metadata": {}
        },
        {
          "output_type": "stream",
          "name": "stdout",
          "text": [
            "(False, {})\n"
          ]
        }
      ]
    },
    {
      "cell_type": "markdown",
      "source": [
        "Check only that last points crossed the lower bound of neckline tolerance. The last point may not be part of neckline."
      ],
      "metadata": {
        "id": "ewCymkeCozQx"
      }
    },
    {
      "cell_type": "markdown",
      "source": [
        "## is_above_k_times_previous_average\n",
        "\n",
        "May be useful for checking high volume."
      ],
      "metadata": {
        "id": "JHo5571QEmLC"
      }
    },
    {
      "cell_type": "code",
      "source": [
        "import numpy as np\n",
        "\n",
        "def is_above_k_times_previous_average(\n",
        "    data: np.array,\n",
        "    k: float,\n",
        "    N_previous_points: int\n",
        "    ) -> bool:\n",
        "    \"\"\"\n",
        "    Returns True if the last point is higher than k times the average of the N previous points (excluding the last point), else False.\n",
        "\n",
        "    Parameters:\n",
        "        data (np.array): The input array containing the data points.\n",
        "        k (float): The multiplier to compare the last point against.\n",
        "        N_previous_points (int): The number of previous points to calculate the moving average\n",
        "\n",
        "    Returns:\n",
        "        bool: True if the last point is higher than k times the moving average of the N previous points, else False.\n",
        "    \"\"\"\n",
        "    if len(data) <= N_previous_points:\n",
        "        raise ValueError(\"The data array must contain at least N_previous_points + 1 elements.\")\n",
        "\n",
        "    # Calculate the moving average of the N_previous_points before the last point\n",
        "    moving_average = np.mean(data[-(N_previous_points + 1):-1])\n",
        "\n",
        "    # Check if the last point is greater than k times the moving average\n",
        "    return (data[-1] > k * moving_average, {'moving_average': moving_average})\n"
      ],
      "metadata": {
        "id": "vB6lrBTIElSb"
      },
      "execution_count": 17,
      "outputs": []
    },
    {
      "cell_type": "code",
      "source": [
        "plot_values(values)\n",
        "\n",
        "is_above_k_times_previous_average(data=values, k=2, N_previous_points=5)"
      ],
      "metadata": {
        "colab": {
          "base_uri": "https://localhost:8080/",
          "height": 490
        },
        "id": "yro686QgKGek",
        "outputId": "da16bf36-a0e0-4165-8e2c-e6f35522ffac"
      },
      "execution_count": 19,
      "outputs": [
        {
          "output_type": "display_data",
          "data": {
            "text/plain": [
              "<Figure size 640x480 with 1 Axes>"
            ],
            "image/png": "[encoded data removed]"
          },
          "metadata": {}
        },
        {
          "output_type": "execute_result",
          "data": {
            "text/plain": [
              "(False, {'moving_average': 3.37807569074048})"
            ]
          },
          "metadata": {},
          "execution_count": 19
        }
      ]
    },
    {
      "cell_type": "markdown",
      "source": [
        "# Examples"
      ],
      "metadata": {
        "id": "Fxvf4yWqOjBr"
      }
    },
    {
      "cell_type": "code",
      "source": [
        "is_abo"
      ],
      "metadata": {
        "id": "x8vWzw8AOmNk"
      },
      "execution_count": null,
      "outputs": []
    }
  ]
}