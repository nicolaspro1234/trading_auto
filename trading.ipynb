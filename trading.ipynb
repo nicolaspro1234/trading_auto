{
  "nbformat": 4,
  "nbformat_minor": 0,
  "metadata": {
    "colab": {
      "provenance": [],
      "toc_visible": true,
      "authorship_tag": "ABX9TyNpNd8rQ7aX3NJ3dcXHSFO7",
      "include_colab_link": true
    },
    "kernelspec": {
      "name": "python3",
      "display_name": "Python 3"
    },
    "language_info": {
      "name": "python"
    }
  },
  "cells": [
    {
      "cell_type": "markdown",
      "metadata": {
        "id": "view-in-github",
        "colab_type": "text"
      },
      "source": [
        "<a href=\"https://colab.research.google.com/github/nicolaspro1234/trading_auto/blob/main/trading.ipynb\" target=\"_parent\"><img src=\"https://colab.research.google.com/assets/colab-badge.svg\" alt=\"Open In Colab\"/></a>"
      ]
    },
    {
      "cell_type": "code",
      "execution_count": 1,
      "metadata": {
        "id": "uJr5m5Y_7L6y"
      },
      "outputs": [],
      "source": [
        "import numpy as np\n",
        "import pandas as pd\n",
        "import random\n",
        "from collections import namedtuple"
      ]
    },
    {
      "cell_type": "code",
      "source": [
        "N = 50\n",
        "offset=3\n",
        "random.seed(0)\n",
        "\n",
        "def get_dummy_values(N, offset):\n",
        "  res = [offset]\n",
        "  value = offset\n",
        "  for i in range(1, N):\n",
        "    new_value = value + (offset/10) * random.random() - (offset/10) * random.random()\n",
        "    res += [new_value]\n",
        "    value = new_value\n",
        "  return res\n",
        "\n",
        "values = get_dummy_values(10, 3)"
      ],
      "metadata": {
        "id": "arybyfIb79-s"
      },
      "execution_count": 2,
      "outputs": []
    },
    {
      "cell_type": "code",
      "source": [
        "pd.DataFrame(data={'close': values})"
      ],
      "metadata": {
        "colab": {
          "base_uri": "https://localhost:8080/",
          "height": 363
        },
        "id": "gJaYMrS97QYc",
        "outputId": "3b4196ac-4e0f-4e42-b238-9270600ccc4c"
      },
      "execution_count": 4,
      "outputs": [
        {
          "output_type": "execute_result",
          "data": {
            "text/plain": [
              "      close\n",
              "0  3.000000\n",
              "1  3.025940\n",
              "2  3.074437\n",
              "3  3.106339\n",
              "4  3.250485\n",
              "5  3.218449\n",
              "6  3.339477\n",
              "7  3.197287\n",
              "8  3.307646\n",
              "9  3.285734"
            ],
            "text/html": [
              "\n",
              "  <div id=\"df-bb49ee3e-9a90-45dc-bc61-902dad38ea45\" class=\"colab-df-container\">\n",
              "    <div>\n",
              "<style scoped>\n",
              "    .dataframe tbody tr th:only-of-type {\n",
              "        vertical-align: middle;\n",
              "    }\n",
              "\n",
              "    .dataframe tbody tr th {\n",
              "        vertical-align: top;\n",
              "    }\n",
              "\n",
              "    .dataframe thead th {\n",
              "        text-align: right;\n",
              "    }\n",
              "</style>\n",
              "<table border=\"1\" class=\"dataframe\">\n",
              "  <thead>\n",
              "    <tr style=\"text-align: right;\">\n",
              "      <th></th>\n",
              "      <th>close</th>\n",
              "    </tr>\n",
              "  </thead>\n",
              "  <tbody>\n",
              "    <tr>\n",
              "      <th>0</th>\n",
              "      <td>3.000000</td>\n",
              "    </tr>\n",
              "    <tr>\n",
              "      <th>1</th>\n",
              "      <td>3.025940</td>\n",
              "    </tr>\n",
              "    <tr>\n",
              "      <th>2</th>\n",
              "      <td>3.074437</td>\n",
              "    </tr>\n",
              "    <tr>\n",
              "      <th>3</th>\n",
              "      <td>3.106339</td>\n",
              "    </tr>\n",
              "    <tr>\n",
              "      <th>4</th>\n",
              "      <td>3.250485</td>\n",
              "    </tr>\n",
              "    <tr>\n",
              "      <th>5</th>\n",
              "      <td>3.218449</td>\n",
              "    </tr>\n",
              "    <tr>\n",
              "      <th>6</th>\n",
              "      <td>3.339477</td>\n",
              "    </tr>\n",
              "    <tr>\n",
              "      <th>7</th>\n",
              "      <td>3.197287</td>\n",
              "    </tr>\n",
              "    <tr>\n",
              "      <th>8</th>\n",
              "      <td>3.307646</td>\n",
              "    </tr>\n",
              "    <tr>\n",
              "      <th>9</th>\n",
              "      <td>3.285734</td>\n",
              "    </tr>\n",
              "  </tbody>\n",
              "</table>\n",
              "</div>\n",
              "    <div class=\"colab-df-buttons\">\n",
              "\n",
              "  <div class=\"colab-df-container\">\n",
              "    <button class=\"colab-df-convert\" onclick=\"convertToInteractive('df-bb49ee3e-9a90-45dc-bc61-902dad38ea45')\"\n",
              "            title=\"Convert this dataframe to an interactive table.\"\n",
              "            style=\"display:none;\">\n",
              "\n",
              "  <svg xmlns=\"http://www.w3.org/2000/svg\" height=\"24px\" viewBox=\"0 -960 960 960\">\n",
              "    <path d=\"M120-120v-720h720v720H120Zm60-500h600v-160H180v160Zm220 220h160v-160H400v160Zm0 220h160v-160H400v160ZM180-400h160v-160H180v160Zm440 0h160v-160H620v160ZM180-180h160v-160H180v160Zm440 0h160v-160H620v160Z\"/>\n",
              "  </svg>\n",
              "    </button>\n",
              "\n",
              "  <style>\n",
              "    .colab-df-container {\n",
              "      display:flex;\n",
              "      gap: 12px;\n",
              "    }\n",
              "\n",
              "    .colab-df-convert {\n",
              "      background-color: #E8F0FE;\n",
              "      border: none;\n",
              "      border-radius: 50%;\n",
              "      cursor: pointer;\n",
              "      display: none;\n",
              "      fill: #1967D2;\n",
              "      height: 32px;\n",
              "      padding: 0 0 0 0;\n",
              "      width: 32px;\n",
              "    }\n",
              "\n",
              "    .colab-df-convert:hover {\n",
              "      background-color: #E2EBFA;\n",
              "      box-shadow: 0px 1px 2px rgba(60, 64, 67, 0.3), 0px 1px 3px 1px rgba(60, 64, 67, 0.15);\n",
              "      fill: #174EA6;\n",
              "    }\n",
              "\n",
              "    .colab-df-buttons div {\n",
              "      margin-bottom: 4px;\n",
              "    }\n",
              "\n",
              "    [theme=dark] .colab-df-convert {\n",
              "      background-color: #3B4455;\n",
              "      fill: #D2E3FC;\n",
              "    }\n",
              "\n",
              "    [theme=dark] .colab-df-convert:hover {\n",
              "      background-color: #434B5C;\n",
              "      box-shadow: 0px 1px 3px 1px rgba(0, 0, 0, 0.15);\n",
              "      filter: drop-shadow(0px 1px 2px rgba(0, 0, 0, 0.3));\n",
              "      fill: #FFFFFF;\n",
              "    }\n",
              "  </style>\n",
              "\n",
              "    <script>\n",
              "      const buttonEl =\n",
              "        document.querySelector('#df-bb49ee3e-9a90-45dc-bc61-902dad38ea45 button.colab-df-convert');\n",
              "      buttonEl.style.display =\n",
              "        google.colab.kernel.accessAllowed ? 'block' : 'none';\n",
              "\n",
              "      async function convertToInteractive(key) {\n",
              "        const element = document.querySelector('#df-bb49ee3e-9a90-45dc-bc61-902dad38ea45');\n",
              "        const dataTable =\n",
              "          await google.colab.kernel.invokeFunction('convertToInteractive',\n",
              "                                                    [key], {});\n",
              "        if (!dataTable) return;\n",
              "\n",
              "        const docLinkHtml = 'Like what you see? Visit the ' +\n",
              "          '<a target=\"_blank\" href=https://colab.research.google.com/notebooks/data_table.ipynb>data table notebook</a>'\n",
              "          + ' to learn more about interactive tables.';\n",
              "        element.innerHTML = '';\n",
              "        dataTable['output_type'] = 'display_data';\n",
              "        await google.colab.output.renderOutput(dataTable, element);\n",
              "        const docLink = document.createElement('div');\n",
              "        docLink.innerHTML = docLinkHtml;\n",
              "        element.appendChild(docLink);\n",
              "      }\n",
              "    </script>\n",
              "  </div>\n",
              "\n",
              "\n",
              "<div id=\"df-758b55e4-386c-479a-b0e6-d91a74b30a5b\">\n",
              "  <button class=\"colab-df-quickchart\" onclick=\"quickchart('df-758b55e4-386c-479a-b0e6-d91a74b30a5b')\"\n",
              "            title=\"Suggest charts\"\n",
              "            style=\"display:none;\">\n",
              "\n",
              "<svg xmlns=\"http://www.w3.org/2000/svg\" height=\"24px\"viewBox=\"0 0 24 24\"\n",
              "     width=\"24px\">\n",
              "    <g>\n",
              "        <path d=\"M19 3H5c-1.1 0-2 .9-2 2v14c0 1.1.9 2 2 2h14c1.1 0 2-.9 2-2V5c0-1.1-.9-2-2-2zM9 17H7v-7h2v7zm4 0h-2V7h2v10zm4 0h-2v-4h2v4z\"/>\n",
              "    </g>\n",
              "</svg>\n",
              "  </button>\n",
              "\n",
              "<style>\n",
              "  .colab-df-quickchart {\n",
              "      --bg-color: #E8F0FE;\n",
              "      --fill-color: #1967D2;\n",
              "      --hover-bg-color: #E2EBFA;\n",
              "      --hover-fill-color: #174EA6;\n",
              "      --disabled-fill-color: #AAA;\n",
              "      --disabled-bg-color: #DDD;\n",
              "  }\n",
              "\n",
              "  [theme=dark] .colab-df-quickchart {\n",
              "      --bg-color: #3B4455;\n",
              "      --fill-color: #D2E3FC;\n",
              "      --hover-bg-color: #434B5C;\n",
              "      --hover-fill-color: #FFFFFF;\n",
              "      --disabled-bg-color: #3B4455;\n",
              "      --disabled-fill-color: #666;\n",
              "  }\n",
              "\n",
              "  .colab-df-quickchart {\n",
              "    background-color: var(--bg-color);\n",
              "    border: none;\n",
              "    border-radius: 50%;\n",
              "    cursor: pointer;\n",
              "    display: none;\n",
              "    fill: var(--fill-color);\n",
              "    height: 32px;\n",
              "    padding: 0;\n",
              "    width: 32px;\n",
              "  }\n",
              "\n",
              "  .colab-df-quickchart:hover {\n",
              "    background-color: var(--hover-bg-color);\n",
              "    box-shadow: 0 1px 2px rgba(60, 64, 67, 0.3), 0 1px 3px 1px rgba(60, 64, 67, 0.15);\n",
              "    fill: var(--button-hover-fill-color);\n",
              "  }\n",
              "\n",
              "  .colab-df-quickchart-complete:disabled,\n",
              "  .colab-df-quickchart-complete:disabled:hover {\n",
              "    background-color: var(--disabled-bg-color);\n",
              "    fill: var(--disabled-fill-color);\n",
              "    box-shadow: none;\n",
              "  }\n",
              "\n",
              "  .colab-df-spinner {\n",
              "    border: 2px solid var(--fill-color);\n",
              "    border-color: transparent;\n",
              "    border-bottom-color: var(--fill-color);\n",
              "    animation:\n",
              "      spin 1s steps(1) infinite;\n",
              "  }\n",
              "\n",
              "  @keyframes spin {\n",
              "    0% {\n",
              "      border-color: transparent;\n",
              "      border-bottom-color: var(--fill-color);\n",
              "      border-left-color: var(--fill-color);\n",
              "    }\n",
              "    20% {\n",
              "      border-color: transparent;\n",
              "      border-left-color: var(--fill-color);\n",
              "      border-top-color: var(--fill-color);\n",
              "    }\n",
              "    30% {\n",
              "      border-color: transparent;\n",
              "      border-left-color: var(--fill-color);\n",
              "      border-top-color: var(--fill-color);\n",
              "      border-right-color: var(--fill-color);\n",
              "    }\n",
              "    40% {\n",
              "      border-color: transparent;\n",
              "      border-right-color: var(--fill-color);\n",
              "      border-top-color: var(--fill-color);\n",
              "    }\n",
              "    60% {\n",
              "      border-color: transparent;\n",
              "      border-right-color: var(--fill-color);\n",
              "    }\n",
              "    80% {\n",
              "      border-color: transparent;\n",
              "      border-right-color: var(--fill-color);\n",
              "      border-bottom-color: var(--fill-color);\n",
              "    }\n",
              "    90% {\n",
              "      border-color: transparent;\n",
              "      border-bottom-color: var(--fill-color);\n",
              "    }\n",
              "  }\n",
              "</style>\n",
              "\n",
              "  <script>\n",
              "    async function quickchart(key) {\n",
              "      const quickchartButtonEl =\n",
              "        document.querySelector('#' + key + ' button');\n",
              "      quickchartButtonEl.disabled = true;  // To prevent multiple clicks.\n",
              "      quickchartButtonEl.classList.add('colab-df-spinner');\n",
              "      try {\n",
              "        const charts = await google.colab.kernel.invokeFunction(\n",
              "            'suggestCharts', [key], {});\n",
              "      } catch (error) {\n",
              "        console.error('Error during call to suggestCharts:', error);\n",
              "      }\n",
              "      quickchartButtonEl.classList.remove('colab-df-spinner');\n",
              "      quickchartButtonEl.classList.add('colab-df-quickchart-complete');\n",
              "    }\n",
              "    (() => {\n",
              "      let quickchartButtonEl =\n",
              "        document.querySelector('#df-758b55e4-386c-479a-b0e6-d91a74b30a5b button');\n",
              "      quickchartButtonEl.style.display =\n",
              "        google.colab.kernel.accessAllowed ? 'block' : 'none';\n",
              "    })();\n",
              "  </script>\n",
              "</div>\n",
              "\n",
              "    </div>\n",
              "  </div>\n"
            ],
            "application/vnd.google.colaboratory.intrinsic+json": {
              "type": "dataframe",
              "summary": "{\n  \"name\": \"pd\",\n  \"rows\": 10,\n  \"fields\": [\n    {\n      \"column\": \"close\",\n      \"properties\": {\n        \"dtype\": \"number\",\n        \"std\": 0.12126733560958748,\n        \"min\": 3.0,\n        \"max\": 3.339476901021581,\n        \"num_unique_values\": 10,\n        \"samples\": [\n          3.307645789688192,\n          3.025940234575424,\n          3.218449092208197\n        ],\n        \"semantic_type\": \"\",\n        \"description\": \"\"\n      }\n    }\n  ]\n}"
            }
          },
          "metadata": {},
          "execution_count": 4
        }
      ]
    },
    {
      "cell_type": "markdown",
      "source": [
        "I want to build a pipeline that checks for me that the data follows some patter.\n",
        "For example:\n",
        "  - the last data point is a resistance breaker or not.\n",
        "  - the last data point is the end of a head and shoulders pattern.\n",
        "\n",
        "So I must have a pipeline object, and within it, steps that return a boolean."
      ],
      "metadata": {
        "id": "7A1Ewfi998lC"
      }
    },
    {
      "cell_type": "markdown",
      "source": [
        "# Pipeline"
      ],
      "metadata": {
        "id": "zJMtGOCLDHTt"
      }
    },
    {
      "cell_type": "code",
      "source": [
        "class Pipeline():\n",
        "  def __init__(self, pipeline=[]):\n",
        "    self.pipeline = pipeline\n",
        "\n",
        "  def add(self, stage):\n",
        "    if stage.id in self.pipeline:\n",
        "      raise ValueError(\"A stage in pipeline already contains this stage's id\")\n",
        "    self.pipeline += [stage]\n",
        "\n",
        "  def remove(self, stage_id):\n",
        "    self.pipeline = [s for s in self.pipeline if s.id != stage_id]\n",
        "\n",
        "  def run(self, data, print_metadata=False):\n",
        "    for s in self.pipeline:\n",
        "      b, metadata = s.function(data)\n",
        "      if print_metadata:\n",
        "        print(f'{s.id}: {metadata}')\n",
        "\n",
        "      if not b:\n",
        "        return False\n",
        "    return True\n",
        "\n",
        "\n",
        "# function returns a tuple (bool, Dict). The second element is metadata about the result.\n",
        "Stage = namedtuple('Stage', ['id', 'function'])"
      ],
      "metadata": {
        "id": "oR5CiSe78AYA"
      },
      "execution_count": 60,
      "outputs": []
    },
    {
      "cell_type": "code",
      "source": [
        "s_test = Stage(id='test', function=lambda s: ( (s > 3.1).all(), (s > 3.1).sum() ))"
      ],
      "metadata": {
        "id": "eJ_L4F-N97Ow"
      },
      "execution_count": 61,
      "outputs": []
    },
    {
      "cell_type": "code",
      "source": [
        "p = Pipeline(pipeline=[])\n",
        "p.add(s_test)\n",
        "p.pipeline"
      ],
      "metadata": {
        "colab": {
          "base_uri": "https://localhost:8080/"
        },
        "id": "ZbS3dBSrA_xU",
        "outputId": "d3e65de7-b70a-450e-db10-97996027d7fa"
      },
      "execution_count": 62,
      "outputs": [
        {
          "output_type": "execute_result",
          "data": {
            "text/plain": [
              "[Stage(id='test', function=<function <lambda> at 0x7aa03c0293f0>)]"
            ]
          },
          "metadata": {},
          "execution_count": 62
        }
      ]
    },
    {
      "cell_type": "code",
      "source": [
        "p.run(np.array(values), print_metadata=True)"
      ],
      "metadata": {
        "colab": {
          "base_uri": "https://localhost:8080/"
        },
        "id": "bf5-Csg5BH-M",
        "outputId": "d497bdcd-743c-4384-edaf-bbcd1da59ba8"
      },
      "execution_count": 63,
      "outputs": [
        {
          "output_type": "stream",
          "name": "stdout",
          "text": [
            "test: 7\n"
          ]
        },
        {
          "output_type": "execute_result",
          "data": {
            "text/plain": [
              "False"
            ]
          },
          "metadata": {},
          "execution_count": 63
        }
      ]
    },
    {
      "cell_type": "code",
      "source": [
        "p.pipeline"
      ],
      "metadata": {
        "colab": {
          "base_uri": "https://localhost:8080/"
        },
        "id": "NvRZK3A9C3-t",
        "outputId": "a28e5e6a-f143-4563-8475-4bec855968fd"
      },
      "execution_count": 64,
      "outputs": [
        {
          "output_type": "execute_result",
          "data": {
            "text/plain": [
              "[Stage(id='test', function=<function <lambda> at 0x7aa03c0293f0>)]"
            ]
          },
          "metadata": {},
          "execution_count": 64
        }
      ]
    },
    {
      "cell_type": "code",
      "source": [
        "p.remove('test')\n",
        "p.pipeline"
      ],
      "metadata": {
        "colab": {
          "base_uri": "https://localhost:8080/"
        },
        "id": "3CPkTzK_Dyih",
        "outputId": "07f576fd-5899-4e5d-beba-6500085ae838"
      },
      "execution_count": null,
      "outputs": [
        {
          "output_type": "execute_result",
          "data": {
            "text/plain": [
              "[]"
            ]
          },
          "metadata": {},
          "execution_count": 122
        }
      ]
    },
    {
      "cell_type": "markdown",
      "source": [
        "# Checker fucntions"
      ],
      "metadata": {
        "id": "LnO94goAD62u"
      }
    },
    {
      "cell_type": "markdown",
      "source": [
        "## Resistance"
      ],
      "metadata": {
        "id": "mu9kH93yEEFA"
      }
    },
    {
      "cell_type": "code",
      "source": [
        "values"
      ],
      "metadata": {
        "colab": {
          "base_uri": "https://localhost:8080/"
        },
        "id": "uMrGpnOeD9bB",
        "outputId": "94fbbd87-ffa4-420b-af6e-e66e2b725e89"
      },
      "execution_count": null,
      "outputs": [
        {
          "output_type": "execute_result",
          "data": {
            "text/plain": [
              "[3,\n",
              " 3.025940234575424,\n",
              " 3.0744366837367885,\n",
              " 3.1063388589122467,\n",
              " 3.250484617799,\n",
              " 3.218449092208197,\n",
              " 3.339476901021581,\n",
              " 3.1972869930943246,\n",
              " 3.307645789688192,\n",
              " 3.285734023667368]"
            ]
          },
          "metadata": {},
          "execution_count": 124
        }
      ]
    },
    {
      "cell_type": "code",
      "source": [
        "import numpy as np\n",
        "\n",
        "def is_resistance(\n",
        "    data,\n",
        "    max_nb_historical_points,\n",
        "    min_nb_historical_points,\n",
        "    ratio_around_resistance,\n",
        "    min_touch_occurences,\n",
        "    min_points_between_touches,\n",
        "    ratio_of_decrease=0.2):\n",
        "    \"\"\"\n",
        "    Returns True if the last point is part of a resistance, else False.\n",
        "\n",
        "    Filters the history by removing points before the latest point that exceeds\n",
        "    last_point * (1 + ratio_around_resistance). Then checks for resistance with\n",
        "    additional constraints on the minimum distance between touches and low-level condition.\n",
        "\n",
        "    Arguments:\n",
        "        - data:                     numpy array of points\n",
        "        - max_nb_historical_points: maximum history size as number of points\n",
        "        - min_nb_historical_points: minimum number of historical points in the filtered history\n",
        "        - ratio_around_resistance:  ratio of tolerance around resistance level\n",
        "        - min_touch_occurences:     number of times the resistance line is touched\n",
        "        - min_points_between_touches: minimum points required between touches\n",
        "        - ratio_of_decrease:        minimum ratio decrease from the resistance level required in history\n",
        "\n",
        "    Returns:\n",
        "        bool: True if the last point is part of a resistance, False otherwise.\n",
        "    \"\"\"\n",
        "    # Ensure data length is sufficient\n",
        "    if len(data) < max_nb_historical_points:\n",
        "        raise ValueError(\"Insufficient data points for the specified history size.\")\n",
        "\n",
        "    # Get the last point and its tolerance threshold\n",
        "    last_point = data[-1]\n",
        "    tolerance_threshold = last_point * (1 + ratio_around_resistance)\n",
        "\n",
        "    # Filter the history\n",
        "    historical_data = data[-max_nb_historical_points:-1]  # Exclude the last point for resistance calculation\n",
        "    crossing_indices = [i for i, point in enumerate(historical_data) if point > tolerance_threshold]\n",
        "\n",
        "    if crossing_indices:\n",
        "        # Cut history after the most recent crossing point\n",
        "        historical_data = historical_data[crossing_indices[-1] + 1:]\n",
        "\n",
        "    # Check if the filtered history meets minimum length requirement\n",
        "    if len(historical_data) < min_nb_historical_points:\n",
        "        return False\n",
        "\n",
        "    # Determine the potential resistance level as the maximum value in the filtered historical data\n",
        "    resistance_level = np.max(historical_data)\n",
        "\n",
        "    # Define the tolerance range around the resistance level\n",
        "    lower_bound = resistance_level * (1 - ratio_around_resistance)\n",
        "    upper_bound = resistance_level * (1 + ratio_around_resistance)\n",
        "\n",
        "    # Ensure the cut history has reached a low enough level\n",
        "    required_low_level = resistance_level - resistance_level * ratio_of_decrease\n",
        "    if np.min(historical_data) > required_low_level:\n",
        "        return False\n",
        "\n",
        "    # Count valid touches with min_points_between_touches enforcement\n",
        "    touch_count = 0\n",
        "    last_touch_index = -min_points_between_touches - 1  # Initialize as far enough back\n",
        "    for i, point in enumerate(historical_data):\n",
        "        if lower_bound <= point <= upper_bound:\n",
        "            # Check if enough points have passed since the last touch\n",
        "            if i - last_touch_index > min_points_between_touches:\n",
        "                touch_count += 1\n",
        "                last_touch_index = i\n",
        "        elif point > upper_bound:  # Resistance is crossed\n",
        "            return False\n",
        "\n",
        "    # Check if the last point is within the tolerance range\n",
        "    is_last_point_near_resistance = lower_bound <= last_point <= upper_bound\n",
        "\n",
        "    # Return True if last point is near resistance and touch count condition is met\n",
        "    return is_last_point_near_resistance and touch_count >= min_touch_occurences\n"
      ],
      "metadata": {
        "id": "YannOgwk8xQM"
      },
      "execution_count": null,
      "outputs": []
    },
    {
      "cell_type": "markdown",
      "source": [
        "## Epaule tête épaule inversée\n",
        "\n",
        "écrire nom fonction et docstring. Puis demander à chat gpt d'écrire la fonction."
      ],
      "metadata": {
        "id": "tykjM9_COow3"
      }
    },
    {
      "cell_type": "code",
      "source": [],
      "metadata": {
        "id": "lIUodsngKYTb"
      },
      "execution_count": null,
      "outputs": []
    },
    {
      "cell_type": "markdown",
      "source": [
        "# Examples"
      ],
      "metadata": {
        "id": "Fxvf4yWqOjBr"
      }
    },
    {
      "cell_type": "code",
      "source": [],
      "metadata": {
        "id": "x8vWzw8AOmNk"
      },
      "execution_count": null,
      "outputs": []
    }
  ]
}